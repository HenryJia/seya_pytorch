{
 "cells": [
  {
   "cell_type": "markdown",
   "metadata": {},
   "source": [
    "# Neural Turing Machine with Keras\n",
    "Definitions:\n",
    "$h$ controller RNN state. $M$ memory (a matrix). $r$ and $w$ read and write vectors, output of a softmax, thus a probability distribution, they are used to do weighted averaging (it seems that differentiable attention is the new name for that) over the rows of $M$. The rows of $M$ are the different \"memory locations\".  \n",
    "\n",
    "Internal algorithm:\n",
    "1) Using $h_{t-1}$, update the reading vector $r_t = f_r(r_{t-1}, h_{t-1})$  \n",
    "2) Read from memory $m_t = read(r_t, M_{t-1})$  \n",
    "3) Using the input and the read vector, update the RNN controller state $RNN$: $h_t = RNN(x_t, m_t, h_{t-1})$  \n",
    "4) Using $h_t$, update the writing vector $w_t = f_w(w_{tm1}, h_t)$  \n",
    "5) Write to memory $M_t = write(M_{t-1}, h_t, w_t)$.  \n",
    "For details see Graves et. al.. Next we are going to run the Copy experiment in PyTorch  \n",
    "\n",
    "# Copy Problem\n"
   ]
  },
  {
   "cell_type": "code",
   "execution_count": 1,
   "metadata": {
    "collapsed": true
   },
   "outputs": [],
   "source": [
    "%matplotlib inline\n",
    "from __future__ import absolute_import\n",
    "from __future__ import print_function\n",
    "import logging\n",
    "import time\n",
    "import numpy as np\n",
    "np.random.seed(1234)\n",
    "\n",
    "import torch\n",
    "torch.backends.cudnn.benchmark = True\n",
    "import torch.nn.functional as F\n",
    "from torch import Tensor\n",
    "from torch.autograd import Variable\n",
    "from torch.nn import Parameter, Module, Linear\n",
    "from torch.nn.utils import clip_grad_norm\n",
    "\n",
    "from torch.optim import Adam\n",
    "\n",
    "from torch.utils.data import Dataset, DataLoader\n",
    "from torch.utils.data.sampler import Sampler\n",
    "\n",
    "import matplotlib.pyplot as plt\n",
    "\n",
    "# Steal the progbar from Keras\n",
    "from seya_pytorch.utils import generic_utils\n",
    "\n",
    "from seya_pytorch.layers.ntm import NTM\n",
    "\n",
    "from IPython import display"
   ]
  },
  {
   "cell_type": "code",
   "execution_count": 2,
   "metadata": {
    "collapsed": true
   },
   "outputs": [],
   "source": [
    "class NTMModel(Module):\n",
    "    \"\"\"Container module with an encoder, a recurrent module, and a decoder.\"\"\"\n",
    "\n",
    "    def __init__(self, input_dim, hidden_size, m_length, n_slots, shift_range = 3):\n",
    "\n",
    "        super(NTMModel, self).__init__()\n",
    "\n",
    "        self.input_dim = input_dim\n",
    "        self.hidden_size = hidden_size\n",
    "        self.m_length = m_length\n",
    "        self.n_slots = n_slots\n",
    "        self.shift_range = shift_range\n",
    "\n",
    "        self.ntm = NTM(input_dim, hidden_size, m_length, n_slots)\n",
    "        self.fc1 = Linear(hidden_size, input_dim)\n",
    "\n",
    "        self.init_states()\n",
    "\n",
    "    def init_states(self):\n",
    "        # Initial memory and head for the NTM\n",
    "        self.memory = Parameter(torch.ones(1, self.n_slots, self.m_length) * 1e-3)\n",
    "        self.read_head = Parameter(Tensor(1, self.n_slots))\n",
    "        self.write_head = Parameter(Tensor(1, self.n_slots))\n",
    "\n",
    "        # Initial states for the LSTM controller of the NTM\n",
    "        self.h = Parameter(torch.zeros(1, self.hidden_size))\n",
    "        self.c = Parameter(torch.zeros(1, self.hidden_size))\n",
    "\n",
    "        # Since the initial read and write heads are basically weights we'll initialise them like weights\n",
    "        bound = np.sqrt(6.0 / (1 + self.n_slots))\n",
    "        self.read_head.data.uniform_(bound, -bound)\n",
    "        self.write_head.data.uniform_(bound, -bound)\n",
    "\n",
    "    def get_init_states(self, batch_size):\n",
    "        memory = self.memory.expand(batch_size, self.n_slots, self.m_length)\n",
    "        read_head = F.softmax(self.read_head.expand(batch_size, self.n_slots))\n",
    "        write_head = F.softmax(self.write_head.expand(batch_size, self.n_slots))\n",
    "\n",
    "        h = self.h.expand(batch_size, self.hidden_size)\n",
    "        c = self.c.expand(batch_size, self.hidden_size)\n",
    "\n",
    "        return [h, c], [read_head, write_head], memory\n",
    "\n",
    "    def forward(self, inp, states, heads, memory):\n",
    "\n",
    "        ntm_out = self.ntm(inp, states, heads, memory)\n",
    "        out = F.sigmoid(self.fc1(ntm_out[0][0]))\n",
    "\n",
    "        return out, ntm_out"
   ]
  },
  {
   "cell_type": "code",
   "execution_count": 3,
   "metadata": {
    "collapsed": true
   },
   "outputs": [],
   "source": [
    "# Steal this from EderSanta/Seya\n",
    "def get_sample(batch_size=128, n_bits=8, max_size=20, min_size=1):\n",
    "    # generate samples with random length\n",
    "    inp = np.zeros((batch_size, 2*max_size-1, n_bits))\n",
    "    out = np.zeros((batch_size, 2*max_size-1, n_bits))\n",
    "    sw = np.zeros((batch_size, 2*max_size-1, 1))\n",
    "    for i in range(batch_size):\n",
    "        t = np.random.randint(low=min_size, high=max_size)\n",
    "        x = np.random.uniform(size=(t, n_bits)) > .5\n",
    "        for j,f in enumerate(x.sum(axis=-1)): # remove fake flags\n",
    "            if f>=n_bits:\n",
    "                x[j, :] = 0.\n",
    "        del_flag = np.ones((1, n_bits))\n",
    "        inp[i, :t+1] = np.concatenate([x, del_flag], axis=0)\n",
    "        out[i, t:(2*t)] = x\n",
    "        sw[i, t:(2*t)] = 1\n",
    "    return inp, out, sw"
   ]
  },
  {
   "cell_type": "code",
   "execution_count": 4,
   "metadata": {
    "collapsed": true
   },
   "outputs": [],
   "source": [
    "# Steal this from EderSanta/Seya too\n",
    "def show_pattern(inp, out, sw, file_name='pattern2.png'):\n",
    "    plt.figure(figsize=(10, 10))\n",
    "    plt.subplot(131)\n",
    "    plt.imshow(inp>.5)\n",
    "    plt.subplot(132)\n",
    "    plt.imshow(out>.5)\n",
    "    plt.subplot(133)\n",
    "    plt.imshow(sw[:, :1]>.5)\n",
    "    plt.savefig(file_name)\n",
    "    plt.close()\n",
    "\n",
    "inp, out, sw = get_sample()\n",
    "show_pattern(inp[0], out[0], sw[0])"
   ]
  },
  {
   "cell_type": "code",
   "execution_count": 5,
   "metadata": {},
   "outputs": [
    {
     "data": {
      "text/plain": [
       "<matplotlib.image.AxesImage at 0x7f2c3cf46358>"
      ]
     },
     "execution_count": 5,
     "metadata": {},
     "output_type": "execute_result"
    },
    {
     "data": {
      "image/png": "[encoded data removed]",
      "text/plain": [
       "<matplotlib.figure.Figure at 0x7f2c3f4acbe0>"
      ]
     },
     "metadata": {},
     "output_type": "display_data"
    }
   ],
   "source": [
    "# Steal this from EderSanta/Seya\n",
    "inp, out, sw = get_sample(1, 8, 20)\n",
    "\n",
    "plt.subplot(131)\n",
    "plt.title('input')\n",
    "plt.imshow(inp[0], cmap='gray')\n",
    "plt.subplot(132)\n",
    "plt.title('desired')\n",
    "plt.imshow(out[0], cmap='gray')\n",
    "plt.subplot(133)\n",
    "plt.title('sample_weight')\n",
    "plt.imshow(sw[0], cmap='gray')\n",
    "\n",
    "# sample_weight marks the points in time that will \n",
    "# be part of the cost function."
   ]
  },
  {
   "cell_type": "code",
   "execution_count": 15,
   "metadata": {
    "collapsed": true
   },
   "outputs": [],
   "source": [
    "#(self, input_dim, hidden_size, m_length, n_slots, shift_range = 3)\n",
    "model = NTMModel(8, 64, 20, 50)\n",
    "model.cuda()\n",
    "optimizer = Adam(model.parameters(), lr = 0.001)"
   ]
  },
  {
   "cell_type": "code",
   "execution_count": null,
   "metadata": {},
   "outputs": [
    {
     "name": "stdout",
     "output_type": "stream",
     "text": [
      " 500/4000 [==>...........................] - ETA: 2136s - loss: 0.1650\n",
      "accuracy  0.82578125\n",
      "1000/4000 [======>.......................] - ETA: 1763s - loss: 0.1575\n",
      "accuracy  0.85888671875\n",
      "1500/4000 [==========>...................] - ETA: 1443s - loss: 0.1514\n",
      "accuracy  0.820629882813\n",
      "2000/4000 [==============>...............] - ETA: 1144s - loss: 0.1458\n",
      "accuracy  0.835131835937\n",
      "2500/4000 [=================>............] - ETA: 853s - loss: 0.1407\n",
      "accuracy  0.85234375\n",
      "2978/4000 [=====================>........] - ETA: 589s - loss: 0.1377"
     ]
    }
   ],
   "source": [
    "nb_epoch = 4000\n",
    "batch_size = 256\n",
    "progbar = generic_utils.Progbar(nb_epoch)\n",
    "for e in range(nb_epoch):\n",
    "    \n",
    "    data, targets, weights = get_sample(n_bits=8, max_size=20, min_size=1, batch_size=batch_size)\n",
    "\n",
    "    x = Variable(torch.from_numpy(np.transpose(data, (1, 0, 2))).float()).cuda()\n",
    "    t = Variable(torch.from_numpy(np.transpose(targets, (1, 0, 2))).float()).cuda()\n",
    "    w = Variable(torch.from_numpy(np.transpose(weights, (1, 0, 2))).float()).cuda()\n",
    "\n",
    "    model.zero_grad()\n",
    "    out = []\n",
    "    states = model.get_init_states(batch_size)\n",
    "    x = x.chunk(x.size()[0])\n",
    "    for xi in x:\n",
    "        o = model(xi.squeeze(), *states)\n",
    "        states = o[1]\n",
    "        out += [o[0]]\n",
    "    out = torch.stack(out, dim = 0)\n",
    "    loss = F.binary_cross_entropy(out * w.expand_as(out), t)\n",
    "    loss.backward()\n",
    "    clip_grad_norm(model.parameters(), 10)\n",
    "    optimizer.step()\n",
    "\n",
    "    progbar.add(1, values=[(\"loss\", loss.data.cpu().numpy())])\n",
    "    if int(e + 1) % 500 == 0:\n",
    "        out_np = np.transpose(np.round(out.data.cpu().numpy()), (1, 0, 2))\n",
    "        acc = (out_np == targets)[:, -20:].mean()\n",
    "        print('\\naccuracy ', acc)\n",
    "\n",
    "        plt.subplot(131)\n",
    "        plt.title('input')\n",
    "        plt.imshow(data[0], cmap='gray')\n",
    "        plt.subplot(132)\n",
    "        plt.title('desired')\n",
    "        plt.imshow(targets[0], cmap='gray')\n",
    "        plt.subplot(133)\n",
    "        plt.title('output')\n",
    "        plt.imshow(out.data.cpu().numpy()[:, 0], cmap='gray')"
   ]
  },
  {
   "cell_type": "code",
   "execution_count": null,
   "metadata": {},
   "outputs": [],
   "source": [
    "plt.subplot(131)\n",
    "plt.title('input')\n",
    "plt.imshow(data[0], cmap='gray')\n",
    "plt.subplot(132)\n",
    "plt.title('desired')\n",
    "plt.imshow(targets[0], cmap='gray')\n",
    "plt.subplot(133)\n",
    "plt.title('output')\n",
    "plt.imshow(out.data.cpu().numpy()[:, 0], cmap='gray')"
   ]
  },
  {
   "cell_type": "code",
   "execution_count": null,
   "metadata": {
    "collapsed": true
   },
   "outputs": [],
   "source": []
  }
 ],
 "metadata": {
  "kernelspec": {
   "display_name": "Python 3",
   "language": "python",
   "name": "python3"
  },
  "language_info": {
   "codemirror_mode": {
    "name": "ipython",
    "version": 3
   },
   "file_extension": ".py",
   "mimetype": "text/x-python",
   "name": "python",
   "nbconvert_exporter": "python",
   "pygments_lexer": "ipython3",
   "version": "3.6.1"
  }
 },
 "nbformat": 4,
 "nbformat_minor": 2
}
